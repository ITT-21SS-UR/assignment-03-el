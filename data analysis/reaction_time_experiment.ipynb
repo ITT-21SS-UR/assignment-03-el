{
 "cells": [
  {
   "cell_type": "markdown",
   "id": "headed-mongolia",
   "metadata": {},
   "source": [
    "# Reaction Time Analysis"
   ]
  },
  {
   "cell_type": "markdown",
   "id": "destroyed-winning",
   "metadata": {},
   "source": [
    "In this experiment, we investigated whether there was a difference in subjects' reaction time between mentally different demanding conditions. For this, the participants were asked to press a certain computer key as soon as a stimulus was displayed on the computer screen: \n",
    "\n",
    "The mentally less demanding Stimulus showed a color change of the screen background, whereupon the subjects were asked to press the space bar.\n",
    "The mentally demanding stimulus showed a random number between one and three, upon which the subjects were asked to press the respective number on the keyboard.\n",
    "    \n",
    "The study has a within-subjects design, i.e. the subjects received both parts of the experiment and the reaction time was measured for both stimuli. \n",
    "In order to collect enough data per participant without fatigue, ten repetitions per condition were performed.\n",
    "Depending on the participant number, the experiment was started with stimulus one or stimulus two. This randomized order of the stimuli was intended to prevent a possible sequence or learning effect. \n",
    "\n",
    "Six subjects of different age and profession were tested."
   ]
  },
  {
   "cell_type": "code",
   "execution_count": 30,
   "id": "outer-bristol",
   "metadata": {},
   "outputs": [],
   "source": [
    "# imports\n",
    "import pandas as pd # data mangling\n",
    "import matplotlib\n",
    "from matplotlib import pyplot as plt\n",
    "import scipy\n",
    "import numpy as np\n",
    "import seaborn as sns"
   ]
  },
  {
   "cell_type": "markdown",
   "id": "continuous-chick",
   "metadata": {},
   "source": [
    "## Import data and create a DataFrame with relevant data"
   ]
  },
  {
   "cell_type": "code",
   "execution_count": 31,
   "id": "exempt-integrity",
   "metadata": {},
   "outputs": [],
   "source": [
    "df_reaction_time = pd.read_csv('reaction_time_results.csv')"
   ]
  },
  {
   "cell_type": "code",
   "execution_count": 32,
   "id": "present-preserve",
   "metadata": {},
   "outputs": [
    {
     "data": {
      "text/html": [
       "<div>\n",
       "<style scoped>\n",
       "    .dataframe tbody tr th:only-of-type {\n",
       "        vertical-align: middle;\n",
       "    }\n",
       "\n",
       "    .dataframe tbody tr th {\n",
       "        vertical-align: top;\n",
       "    }\n",
       "\n",
       "    .dataframe thead th {\n",
       "        text-align: right;\n",
       "    }\n",
       "</style>\n",
       "<table border=\"1\" class=\"dataframe\">\n",
       "  <thead>\n",
       "    <tr style=\"text-align: right;\">\n",
       "      <th></th>\n",
       "      <th>ID</th>\n",
       "      <th>condition</th>\n",
       "      <th>shown_stimulus</th>\n",
       "      <th>pressed_key</th>\n",
       "      <th>is_correct_key</th>\n",
       "      <th>reaction_time_in_ms</th>\n",
       "      <th>timestamp</th>\n",
       "    </tr>\n",
       "  </thead>\n",
       "  <tbody>\n",
       "    <tr>\n",
       "      <th>0</th>\n",
       "      <td>1</td>\n",
       "      <td>simple</td>\n",
       "      <td>orange</td>\n",
       "      <td>Space</td>\n",
       "      <td>True</td>\n",
       "      <td>244</td>\n",
       "      <td>2021-05-01 09:21:38.767333</td>\n",
       "    </tr>\n",
       "    <tr>\n",
       "      <th>1</th>\n",
       "      <td>1</td>\n",
       "      <td>simple</td>\n",
       "      <td>orange</td>\n",
       "      <td>Space</td>\n",
       "      <td>True</td>\n",
       "      <td>271</td>\n",
       "      <td>2021-05-01 09:21:45.765831</td>\n",
       "    </tr>\n",
       "    <tr>\n",
       "      <th>2</th>\n",
       "      <td>1</td>\n",
       "      <td>simple</td>\n",
       "      <td>orange</td>\n",
       "      <td>Space</td>\n",
       "      <td>True</td>\n",
       "      <td>298</td>\n",
       "      <td>2021-05-01 09:21:50.392569</td>\n",
       "    </tr>\n",
       "    <tr>\n",
       "      <th>3</th>\n",
       "      <td>1</td>\n",
       "      <td>simple</td>\n",
       "      <td>orange</td>\n",
       "      <td>Space</td>\n",
       "      <td>True</td>\n",
       "      <td>240</td>\n",
       "      <td>2021-05-01 09:21:57.771664</td>\n",
       "    </tr>\n",
       "    <tr>\n",
       "      <th>4</th>\n",
       "      <td>1</td>\n",
       "      <td>simple</td>\n",
       "      <td>orange</td>\n",
       "      <td>Space</td>\n",
       "      <td>True</td>\n",
       "      <td>256</td>\n",
       "      <td>2021-05-01 09:22:02.467861</td>\n",
       "    </tr>\n",
       "    <tr>\n",
       "      <th>...</th>\n",
       "      <td>...</td>\n",
       "      <td>...</td>\n",
       "      <td>...</td>\n",
       "      <td>...</td>\n",
       "      <td>...</td>\n",
       "      <td>...</td>\n",
       "      <td>...</td>\n",
       "    </tr>\n",
       "    <tr>\n",
       "      <th>115</th>\n",
       "      <td>6</td>\n",
       "      <td>simple</td>\n",
       "      <td>orange</td>\n",
       "      <td>Space</td>\n",
       "      <td>True</td>\n",
       "      <td>542</td>\n",
       "      <td>2021-05-01 15:23:42.325476</td>\n",
       "    </tr>\n",
       "    <tr>\n",
       "      <th>116</th>\n",
       "      <td>6</td>\n",
       "      <td>simple</td>\n",
       "      <td>orange</td>\n",
       "      <td>Space</td>\n",
       "      <td>True</td>\n",
       "      <td>346</td>\n",
       "      <td>2021-05-01 15:23:49.331361</td>\n",
       "    </tr>\n",
       "    <tr>\n",
       "      <th>117</th>\n",
       "      <td>6</td>\n",
       "      <td>simple</td>\n",
       "      <td>orange</td>\n",
       "      <td>Space</td>\n",
       "      <td>True</td>\n",
       "      <td>382</td>\n",
       "      <td>2021-05-01 15:23:55.876172</td>\n",
       "    </tr>\n",
       "    <tr>\n",
       "      <th>118</th>\n",
       "      <td>6</td>\n",
       "      <td>simple</td>\n",
       "      <td>orange</td>\n",
       "      <td>Space</td>\n",
       "      <td>True</td>\n",
       "      <td>408</td>\n",
       "      <td>2021-05-01 15:24:01.879209</td>\n",
       "    </tr>\n",
       "    <tr>\n",
       "      <th>119</th>\n",
       "      <td>6</td>\n",
       "      <td>simple</td>\n",
       "      <td>orange</td>\n",
       "      <td>Space</td>\n",
       "      <td>True</td>\n",
       "      <td>343</td>\n",
       "      <td>2021-05-01 15:24:08.332482</td>\n",
       "    </tr>\n",
       "  </tbody>\n",
       "</table>\n",
       "<p>120 rows × 7 columns</p>\n",
       "</div>"
      ],
      "text/plain": [
       "     ID condition shown_stimulus pressed_key  is_correct_key  \\\n",
       "0     1    simple         orange       Space            True   \n",
       "1     1    simple         orange       Space            True   \n",
       "2     1    simple         orange       Space            True   \n",
       "3     1    simple         orange       Space            True   \n",
       "4     1    simple         orange       Space            True   \n",
       "..   ..       ...            ...         ...             ...   \n",
       "115   6    simple         orange       Space            True   \n",
       "116   6    simple         orange       Space            True   \n",
       "117   6    simple         orange       Space            True   \n",
       "118   6    simple         orange       Space            True   \n",
       "119   6    simple         orange       Space            True   \n",
       "\n",
       "     reaction_time_in_ms                   timestamp  \n",
       "0                    244  2021-05-01 09:21:38.767333  \n",
       "1                    271  2021-05-01 09:21:45.765831  \n",
       "2                    298  2021-05-01 09:21:50.392569  \n",
       "3                    240  2021-05-01 09:21:57.771664  \n",
       "4                    256  2021-05-01 09:22:02.467861  \n",
       "..                   ...                         ...  \n",
       "115                  542  2021-05-01 15:23:42.325476  \n",
       "116                  346  2021-05-01 15:23:49.331361  \n",
       "117                  382  2021-05-01 15:23:55.876172  \n",
       "118                  408  2021-05-01 15:24:01.879209  \n",
       "119                  343  2021-05-01 15:24:08.332482  \n",
       "\n",
       "[120 rows x 7 columns]"
      ]
     },
     "metadata": {},
     "output_type": "display_data"
    }
   ],
   "source": [
    "display (df_reaction_time)"
   ]
  },
  {
   "cell_type": "code",
   "execution_count": 33,
   "id": "cooperative-bathroom",
   "metadata": {},
   "outputs": [
    {
     "data": {
      "text/html": [
       "<div>\n",
       "<style scoped>\n",
       "    .dataframe tbody tr th:only-of-type {\n",
       "        vertical-align: middle;\n",
       "    }\n",
       "\n",
       "    .dataframe tbody tr th {\n",
       "        vertical-align: top;\n",
       "    }\n",
       "\n",
       "    .dataframe thead th {\n",
       "        text-align: right;\n",
       "    }\n",
       "</style>\n",
       "<table border=\"1\" class=\"dataframe\">\n",
       "  <thead>\n",
       "    <tr style=\"text-align: right;\">\n",
       "      <th></th>\n",
       "      <th>ID</th>\n",
       "      <th>condition</th>\n",
       "      <th>is_correct_key</th>\n",
       "      <th>reaction_time_in_ms</th>\n",
       "    </tr>\n",
       "  </thead>\n",
       "  <tbody>\n",
       "    <tr>\n",
       "      <th>0</th>\n",
       "      <td>1</td>\n",
       "      <td>simple</td>\n",
       "      <td>True</td>\n",
       "      <td>244</td>\n",
       "    </tr>\n",
       "    <tr>\n",
       "      <th>1</th>\n",
       "      <td>1</td>\n",
       "      <td>simple</td>\n",
       "      <td>True</td>\n",
       "      <td>271</td>\n",
       "    </tr>\n",
       "    <tr>\n",
       "      <th>2</th>\n",
       "      <td>1</td>\n",
       "      <td>simple</td>\n",
       "      <td>True</td>\n",
       "      <td>298</td>\n",
       "    </tr>\n",
       "    <tr>\n",
       "      <th>3</th>\n",
       "      <td>1</td>\n",
       "      <td>simple</td>\n",
       "      <td>True</td>\n",
       "      <td>240</td>\n",
       "    </tr>\n",
       "    <tr>\n",
       "      <th>4</th>\n",
       "      <td>1</td>\n",
       "      <td>simple</td>\n",
       "      <td>True</td>\n",
       "      <td>256</td>\n",
       "    </tr>\n",
       "    <tr>\n",
       "      <th>...</th>\n",
       "      <td>...</td>\n",
       "      <td>...</td>\n",
       "      <td>...</td>\n",
       "      <td>...</td>\n",
       "    </tr>\n",
       "    <tr>\n",
       "      <th>115</th>\n",
       "      <td>6</td>\n",
       "      <td>simple</td>\n",
       "      <td>True</td>\n",
       "      <td>542</td>\n",
       "    </tr>\n",
       "    <tr>\n",
       "      <th>116</th>\n",
       "      <td>6</td>\n",
       "      <td>simple</td>\n",
       "      <td>True</td>\n",
       "      <td>346</td>\n",
       "    </tr>\n",
       "    <tr>\n",
       "      <th>117</th>\n",
       "      <td>6</td>\n",
       "      <td>simple</td>\n",
       "      <td>True</td>\n",
       "      <td>382</td>\n",
       "    </tr>\n",
       "    <tr>\n",
       "      <th>118</th>\n",
       "      <td>6</td>\n",
       "      <td>simple</td>\n",
       "      <td>True</td>\n",
       "      <td>408</td>\n",
       "    </tr>\n",
       "    <tr>\n",
       "      <th>119</th>\n",
       "      <td>6</td>\n",
       "      <td>simple</td>\n",
       "      <td>True</td>\n",
       "      <td>343</td>\n",
       "    </tr>\n",
       "  </tbody>\n",
       "</table>\n",
       "<p>120 rows × 4 columns</p>\n",
       "</div>"
      ],
      "text/plain": [
       "     ID condition  is_correct_key  reaction_time_in_ms\n",
       "0     1    simple            True                  244\n",
       "1     1    simple            True                  271\n",
       "2     1    simple            True                  298\n",
       "3     1    simple            True                  240\n",
       "4     1    simple            True                  256\n",
       "..   ..       ...             ...                  ...\n",
       "115   6    simple            True                  542\n",
       "116   6    simple            True                  346\n",
       "117   6    simple            True                  382\n",
       "118   6    simple            True                  408\n",
       "119   6    simple            True                  343\n",
       "\n",
       "[120 rows x 4 columns]"
      ]
     },
     "execution_count": 33,
     "metadata": {},
     "output_type": "execute_result"
    }
   ],
   "source": [
    "# extract the relevant data for further processing\n",
    "df_sample_rt = df_reaction_time[['ID', 'condition', 'is_correct_key', 'reaction_time_in_ms']]\n",
    "\n",
    "df_sample_rt"
   ]
  },
  {
   "cell_type": "markdown",
   "id": "obvious-treaty",
   "metadata": {},
   "source": [
    "## Basic Findings"
   ]
  },
  {
   "cell_type": "code",
   "execution_count": 34,
   "id": "fallen-spanish",
   "metadata": {},
   "outputs": [
    {
     "name": "stdout",
     "output_type": "stream",
     "text": [
      "All values are time in ms\n",
      "Mean simple: 317.75\n",
      "Mean complex: 506.5\n",
      "STD simple: 64.00172523716321\n",
      "STD complex: 101.30588992419608\n",
      "Max simple: 542\n",
      "Max complex: 798\n",
      "Min simple: 225\n",
      "Min complex: 297\n"
     ]
    }
   ],
   "source": [
    "reaction_time_simple = df_scatter[(df_scatter['condition'] == 'simple')]['reaction_time_in_ms']\n",
    "reaction_time_complex = df_scatter[(df_scatter['condition'] == 'complex')]['reaction_time_in_ms']\n",
    "\n",
    "\n",
    "print(\"All values are time in ms\")\n",
    "\n",
    "mean_simple = np.mean(reaction_time_simple)\n",
    "mean_complex = np.mean(reaction_time_complex)\n",
    "print(\"Mean simple: \" + str(mean_simple))\n",
    "print(\"Mean complex: \" + str(mean_complex))\n",
    "\n",
    "std_simple = np.std(reaction_time_simple)\n",
    "std_complex = np.std(reaction_time_complex)\n",
    "\n",
    "print(\"STD simple: \" + str(std_simple))\n",
    "print(\"STD complex: \" + str(std_complex))\n",
    "\n",
    "max_simple = np.max(reaction_time_simple)\n",
    "max_complex = np.max(reaction_time_complex)\n",
    "\n",
    "print(\"Max simple: \" + str(max_simple))\n",
    "print(\"Max complex: \" + str(max_complex))\n",
    "\n",
    "min_simple = np.min(reaction_time_simple)\n",
    "min_complex = np.min(reaction_time_complex)\n",
    "\n",
    "print(\"Min simple: \" + str(min_simple))\n",
    "print(\"Min complex: \" + str(min_complex))"
   ]
  },
  {
   "cell_type": "markdown",
   "id": "sorted-tolerance",
   "metadata": {},
   "source": [
    "## Scatterplots"
   ]
  },
  {
   "cell_type": "markdown",
   "id": "regulated-knowing",
   "metadata": {},
   "source": [
    "The following figures show the distribution of reaction times of each condition type"
   ]
  },
  {
   "cell_type": "code",
   "execution_count": 35,
   "id": "compliant-fiction",
   "metadata": {},
   "outputs": [
    {
     "data": {
      "image/png": "[encoded data removed]",
      "text/plain": [
       "<Figure size 432x288 with 1 Axes>"
      ]
     },
     "metadata": {
      "needs_background": "light"
     },
     "output_type": "display_data"
    },
    {
     "data": {
      "image/png": "[encoded data removed]",
      "text/plain": [
       "<Figure size 432x288 with 1 Axes>"
      ]
     },
     "metadata": {
      "needs_background": "light"
     },
     "output_type": "display_data"
    }
   ],
   "source": [
    "df_scatter = df_reaction_time[['condition', 'reaction_time_in_ms']]\n",
    "plot = sns.scatterplot(\n",
    "    data = df_scatter[(df_scatter['condition'] == 'simple')],\n",
    "    x = \"condition\",\n",
    "    y = \"reaction_time_in_ms\",\n",
    ")\n",
    "plot.set(xlabel = \"Condition\", ylabel = \"Reaction time in ms\")\n",
    "plt.show()\n",
    "\n",
    "plot = sns.scatterplot(\n",
    "    data = df_scatter[(df_scatter['condition'] == 'complex')],\n",
    "    x = \"condition\",\n",
    "    y = \"reaction_time_in_ms\",\n",
    ")\n",
    "plot.set(xlabel = \"Condition\", ylabel = \"Reaction time in ms\")\n",
    "plt.show()"
   ]
  },
  {
   "cell_type": "code",
   "execution_count": 36,
   "id": "signed-growth",
   "metadata": {},
   "outputs": [
    {
     "data": {
      "image/png": "[encoded data removed]",
      "text/plain": [
       "<Figure size 432x288 with 1 Axes>"
      ]
     },
     "metadata": {
      "needs_background": "light"
     },
     "output_type": "display_data"
    }
   ],
   "source": [
    "plot = sns.swarmplot(\n",
    "    data = df_scatter,\n",
    "    y = \"reaction_time_in_ms\",\n",
    "    x = \"condition\",\n",
    "    hue = \"condition\",\n",
    ")\n",
    "plot.set(xlabel = \"\", ylabel = \"Reaction time in ms\")\n",
    "\n",
    "plt.show()"
   ]
  },
  {
   "cell_type": "markdown",
   "id": "driven-myrtle",
   "metadata": {},
   "source": [
    "## Accuracy"
   ]
  },
  {
   "cell_type": "markdown",
   "id": "official-tragedy",
   "metadata": {},
   "source": [
    "The figure below shows the key press accuracy of the *complex condition* (e.g. whether or not the correct key was pressed)"
   ]
  },
  {
   "cell_type": "code",
   "execution_count": 37,
   "id": "sought-tenant",
   "metadata": {},
   "outputs": [
    {
     "data": {
      "image/png": "[encoded data removed]",
      "text/plain": [
       "<Figure size 432x288 with 1 Axes>"
      ]
     },
     "metadata": {
      "needs_background": "light"
     },
     "output_type": "display_data"
    }
   ],
   "source": [
    "plot = sns.swarmplot(\n",
    "    data = df_sample_rt[(df_sample_rt['condition'] == 'complex')],\n",
    "    y = \"reaction_time_in_ms\",\n",
    "    x = \"condition\",\n",
    "    hue = \"is_correct_key\",\n",
    "    hue_order = [True, False]\n",
    ")\n",
    "plot.set(xlabel = \"\", ylabel = \"Reaction time in ms\", xticklabels = [])\n",
    "plot.legend(title = \"Correct key\")\n",
    "\n",
    "plt.show()"
   ]
  },
  {
   "cell_type": "markdown",
   "id": "satisfied-haiti",
   "metadata": {},
   "source": [
    "## Boxplots"
   ]
  },
  {
   "cell_type": "code",
   "execution_count": 38,
   "id": "foreign-project",
   "metadata": {},
   "outputs": [
    {
     "data": {
      "image/png": "[encoded data removed]",
      "text/plain": [
       "<Figure size 432x288 with 1 Axes>"
      ]
     },
     "metadata": {
      "needs_background": "light"
     },
     "output_type": "display_data"
    }
   ],
   "source": [
    "plot = sns.boxplot(\n",
    "    data = df_scatter,\n",
    "    x = \"condition\",\n",
    "    y = \"reaction_time_in_ms\"\n",
    ")\n",
    "plot.set(xlabel = \"Condition\", ylabel = \"Reaction time in ms\")\n",
    "\n",
    "plt.show()"
   ]
  },
  {
   "cell_type": "markdown",
   "id": "personal-covering",
   "metadata": {},
   "source": [
    "## T - Test"
   ]
  },
  {
   "cell_type": "code",
   "execution_count": 39,
   "id": "boring-iraqi",
   "metadata": {},
   "outputs": [
    {
     "data": {
      "text/plain": [
       "Ttest_indResult(statistic=-12.098994884095681, pvalue=2.0872706133172615e-22)"
      ]
     },
     "execution_count": 39,
     "metadata": {},
     "output_type": "execute_result"
    }
   ],
   "source": [
    "scipy.stats.ttest_ind(reaction_time_simple, reaction_time_complex)"
   ]
  },
  {
   "cell_type": "markdown",
   "id": "chubby-emphasis",
   "metadata": {},
   "source": [
    "## Discussion"
   ]
  },
  {
   "cell_type": "markdown",
   "id": "documented-disease",
   "metadata": {},
   "source": [
    "The mentally less demanding stimulus (M = 317.75, SD = 64.00, n = 60) has on average a shorter reaction time than the second stimulus (M = 506.50, SD = 101.31, n = 60) with slightly more mental demand, t = -12.10, p < 0.001 .  \n",
    "The difference in reaction time between the two stimuli is therefore highly significant. The reaction time after the demanding stimulus is on average about 59.4% slower than reaction time after the less demanding stimulus. \n",
    "Button press accuracy was ~96.7% (only considering the 'complex' condition where different buttons could be chosen)."
   ]
  }
 ],
 "metadata": {
  "kernelspec": {
   "display_name": "Python 3",
   "language": "python",
   "name": "python3"
  },
  "language_info": {
   "codemirror_mode": {
    "name": "ipython",
    "version": 3
   },
   "file_extension": ".py",
   "mimetype": "text/x-python",
   "name": "python",
   "nbconvert_exporter": "python",
   "pygments_lexer": "ipython3",
   "version": "3.9.2"
  }
 },
 "nbformat": 4,
 "nbformat_minor": 5
}
